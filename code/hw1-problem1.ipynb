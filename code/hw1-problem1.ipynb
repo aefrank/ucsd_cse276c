{
 "cells": [
  {
   "cell_type": "markdown",
   "metadata": {},
   "source": [
    "# CSE 276C - Mathematics of Robotics\n",
    "## HW 1 Problem 1\n",
    "### Andrea Frank"
   ]
  },
  {
   "cell_type": "markdown",
   "metadata": {},
   "source": [
    "Python Imports"
   ]
  },
  {
   "cell_type": "code",
   "execution_count": 1,
   "metadata": {},
   "outputs": [],
   "source": [
    "import numpy as np"
   ]
  },
  {
   "cell_type": "markdown",
   "metadata": {},
   "source": [
    "Define helper functions"
   ]
  },
  {
   "cell_type": "code",
   "execution_count": 2,
   "metadata": {},
   "outputs": [],
   "source": [
    "###############################################################################\n",
    "########################## UTILITY FUNCTIONS ##################################\n",
    "###############################################################################\n",
    "\n",
    "def swap_rows(M,row1,row2):\n",
    "    '''\n",
    "    Swap the rows of 2D matrix M in place.\n",
    "    '''\n",
    "    M[[row1,row2]] = M[[row2,row1]]\n",
    "    \n",
    "def find_pivot_row(X,n=0):\n",
    "    '''\n",
    "    Get index of row with the largest (by magnitude) element in column n.\n",
    "    '''\n",
    "    return np.argsort(-np.abs(X[n:,n]))[0] + n\n",
    "\n",
    "\n",
    "def perm_mat(N,row1,row2):\n",
    "    '''\n",
    "    Return the permutation matrix that Swaps row1 and row2 for an NxN matrix.\n",
    "    '''\n",
    "    P = np.eye(N)\n",
    "    swap_rows(P,row1,row2)\n",
    "    return P\n",
    "\n",
    "\n",
    "\n",
    "###############################################################################\n",
    "################## TESTING FUNCTIONS ##########################################\n",
    "###############################################################################\n",
    "\n",
    "\n",
    "def sp_ldu(A):\n",
    "    '''\n",
    "    Perform lu decomposition from built-in scipy.lu() function, then extract\n",
    "    D using my factor_out_D to get ground-truth p,l,d,u.\n",
    "    Note: scipy considers the decomposition to be A = PLDU, which is why we\n",
    "    use the inverse of the output p from lu().\n",
    "    '''\n",
    "    from scipy.linalg import lu\n",
    "    inv_p,l,du = lu(A)\n",
    "    p = np.linalg.inv(inv_p)\n",
    "    d,u = factor_out_D(du)\n",
    "    return p,l,d,u\n",
    "\n",
    "def test_decomp(A,P,L,D,U):\n",
    "    '''\n",
    "    Test that P,L,D,U extracted by my functions match those calculated\n",
    "    by the built-in scipy.lu() function (applied in sp_ldu()).\n",
    "    '''\n",
    "    p,l,d,u = sp_ldu(A)\n",
    "    assert (p == P).all()\n",
    "    assert (l == L).all()\n",
    "    assert (d == D).all()\n",
    "    assert (u == U).all()\n",
    "    print(\"Success!\")\n",
    "    \n",
    "def print_LDU(A,P,L,D,U):\n",
    "    '''\n",
    "    Print results of decomposition for debugging.\n",
    "    '''\n",
    "    print('A')\n",
    "    print(A)\n",
    "    print()\n",
    "    print('P')\n",
    "    print(P)\n",
    "    print('DU')\n",
    "    print(np.matmul(D,U))\n",
    "    print('L')\n",
    "    print(L)\n",
    "    print('D')\n",
    "    print(D)\n",
    "    print('U')\n",
    "    print(U)\n",
    "    print()\n",
    "    print('PA')\n",
    "    print(np.matmul(P,A))\n",
    "    print('LDU')\n",
    "    print(np.matmul(L,np.matmul(D,U)))"
   ]
  },
  {
   "cell_type": "markdown",
   "metadata": {},
   "source": [
    "Define matrices A,B,C from problem 2 parts (a), (b), and (c), respectively. These matrices will be used to test my decomposition against the built-in scipy LU decomposition, as well as for answering the LDU decomposition part of problem 2.\n",
    "\n",
    "I explicitly set the datatype to double, otherwise they are implicitly cast as integers."
   ]
  },
  {
   "cell_type": "code",
   "execution_count": 3,
   "metadata": {},
   "outputs": [],
   "source": [
    "## Matrices from hw1 problem 2\n",
    "\n",
    "A = np.array(\n",
    "    [[4, 7, 0],\n",
    "     [3, 2, 1],\n",
    "     [2, 2, -6]\n",
    "    ],\n",
    "    dtype='double'\n",
    ")\n",
    "\n",
    "B = np.array(\n",
    "    [[1,0,0,0,1],\n",
    "     [0,0,1,0,0],\n",
    "     [0,1,0,1,0],\n",
    "     [0,1,0,0,0],\n",
    "     [1,0,0,0,0],\n",
    "    ],\n",
    "    dtype='double'\n",
    ")\n",
    "\n",
    "\n",
    "C = np.array(\n",
    "    [[2, 2, 5],\n",
    "     [3, 2, 5],\n",
    "     [1, 1, 5]\n",
    "    ],\n",
    "    dtype='double'\n",
    ")"
   ]
  },
  {
   "cell_type": "markdown",
   "metadata": {},
   "source": [
    "Define functions for each of the main \"steps\" of LDU decomposition. In the permutation step, we perform partial-pivoting by rearranging the rows such that we never hit a 0 pivot. To do this, for each pivot, we swap the row with the highest magnitude potential pivot into the pivot row before moving to the elimination step. This pivoting is reflected in transformations of P and L.\n",
    "\n",
    "In the elimination step, we perform basic Gaussian elimination to  eliminate all elements in the pivot column in lower rows to 0 through elementary operations, eventually building the upper-triangular matrix DU. The inverse of these operations is stored in L.\n",
    "\n",
    "In the factor_out_D step, we factor out D and U from DU such that U is upper-triangular with 1s on the diagonal, and D is a diagonal matrix. This occurs by dividing each row of DU by the pivot value, and storing the original pivot values on the diagonal of D."
   ]
  },
  {
   "cell_type": "code",
   "execution_count": 4,
   "metadata": {},
   "outputs": [],
   "source": [
    "###############################################################################\n",
    "########################## MAIN STEPS #########################################\n",
    "###############################################################################\n",
    "\n",
    "\n",
    "def permutation_step(DU,L=None,P=None,n=0):\n",
    "    '''\n",
    "    Permute X to place highest magnitude pivot of X in current row (n) by swapping,\n",
    "    and permute L to keep row correspondence and lower triangular form. Record \n",
    "    permutation in P.\n",
    "    \n",
    "    PA = LDU\n",
    "    this step permutation: Pn\n",
    "    (Pn P)A = (Pn L Pn)(Pn DU)\n",
    "    '''\n",
    "    if P is None:\n",
    "        P = np.eye(len(DU))\n",
    "    if L is None:\n",
    "        L = np.eye(len(DU))\n",
    "        \n",
    "    pivot = find_pivot_row(X=DU,n=n)\n",
    "    if pivot != n:\n",
    "        # Find permutation for this step\n",
    "        Pn = perm_mat(len(DU),pivot,n)\n",
    "        # Update total permutation matrix -> Pn(PA)\n",
    "        P = np.matmul(Pn,P)\n",
    "        DU = np.matmul(Pn,DU)\n",
    "        L = np.matmul(Pn,np.matmul(L,Pn))\n",
    "    \n",
    "    return P,L,DU\n",
    "\n",
    "\n",
    "def elimination_step(DU,L=None,n=0):\n",
    "    '''\n",
    "    Perform Gaussian elimination on rows below pivot row (n) such that\n",
    "    the only nonzero element of the pivot column is the pivot.\n",
    "    '''\n",
    "    if L is None:\n",
    "        L = np.eye(len(DU))\n",
    "\n",
    "    for nn in range(n+1,len(DU)):\n",
    "        if DU[n,n] != 0:\n",
    "            factor = DU[nn,n]/DU[n,n]\n",
    "            DU[nn] -= factor*DU[n]  # eliminate element in pivot column by subtracting \n",
    "                                            # scaled pivot row from each lower row\n",
    "            L[nn,n] = factor        # Store (inverse) elementary operations in L\n",
    "\n",
    "    return L,DU\n",
    "   \n",
    "def factor_out_D(DU):\n",
    "    '''\n",
    "    DU should be an upper triangular matrix. This function will \n",
    "    factor out the elements on the diagonal so they are set to 1.\n",
    "    The diagonal elements are returned in D, the remaining upper\n",
    "    triangular matrix (with 1s on the diag) in U.\n",
    "    '''    \n",
    "    diag = np.diag(DU)  # extract the diagonal of DU\n",
    "    D = np.diag(diag)  # make into a diagonal matrix\n",
    "    U = DU / diag[:,None]  # factor out D from DU\n",
    "    \n",
    "    return D,U"
   ]
  },
  {
   "cell_type": "markdown",
   "metadata": {},
   "source": [
    "Define a function to perform the steps of the LDU decomposition algorithm, calling the steps from above. Permuation and elimation are called for each pivot to extract P, L, and DU from the input matrix, and then the final factoring step is called to extract D and U from DU.\n",
    "\n",
    "The decomposition is run for the matrices defined in Problem 2 (a), (b), and (c), and tested against the (slightly modified) built-in scipy implementation. The purpose of the modification is effectively only to turn the LU decomposition into an LDU decomposition and define P as a LHS permutation matrix instead of a RHS one."
   ]
  },
  {
   "cell_type": "code",
   "execution_count": 5,
   "metadata": {},
   "outputs": [
    {
     "name": "stdout",
     "output_type": "stream",
     "text": [
      "Success!\n",
      "Success!\n",
      "Success!\n"
     ]
    }
   ],
   "source": [
    "def LDU(A):\n",
    "    # P and L begin as identity matrices\n",
    "    P = np.eye(len(A)) # assuming square matrix\n",
    "    L = np.eye(len(A))\n",
    "    DU = A.copy() # this matrix will have L factored out until it is DU\n",
    "\n",
    "    for n in range(len(A-1)):\n",
    "        P,L,DU = permutation_step(DU=DU,L=L,P=P,n=n)\n",
    "        L,DU   = elimination_step(DU=DU,L=L,n=n)\n",
    "    D,U = factor_out_D(DU)\n",
    "    \n",
    "    return P, L, D, U\n",
    "\n",
    "X = [A,B,C]\n",
    "for x in X:\n",
    "    P,L,D,U = LDU(x)\n",
    "    test_decomp(A=x,P=P,L=L,D=D,U=U) # Check against built-in method\n",
    "\n"
   ]
  }
 ],
 "metadata": {
  "kernelspec": {
   "display_name": "Python 3",
   "language": "python",
   "name": "python3"
  },
  "language_info": {
   "codemirror_mode": {
    "name": "ipython",
    "version": 3
   },
   "file_extension": ".py",
   "mimetype": "text/x-python",
   "name": "python",
   "nbconvert_exporter": "python",
   "pygments_lexer": "ipython3",
   "version": "3.7.4"
  }
 },
 "nbformat": 4,
 "nbformat_minor": 2
}
