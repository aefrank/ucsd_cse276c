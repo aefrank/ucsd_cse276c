{
 "cells": [
  {
   "cell_type": "code",
   "execution_count": 1,
   "metadata": {},
   "outputs": [],
   "source": [
    "import numpy as np\n",
    "import matplotlib.pyplot as plt\n",
    "import itertools as it\n",
    "import scipy as sp\n",
    "from scipy.signal import convolve2d\n",
    "from scipy.ndimage import rotate\n",
    "from skimage.draw import circle\n",
    "\n",
    "\n",
    "# Custom modules\n",
    "from lib import myhelpers as hlp\n",
    "from lib.envmap import Map, Rect"
   ]
  },
  {
   "cell_type": "code",
   "execution_count": 9,
   "metadata": {},
   "outputs": [],
   "source": [
    "grid_res  = 2 # 2x2 grid resolution\n",
    "angle_res = 5 # 5 degree angle resolution\n",
    "\n",
    "robot_dims = np.array([50,50]) # robot is 50 x 50 square\n",
    "clearance = 50/2    # recontextualizing the robot as a point at the center of the bot,\n",
    "                    # it requires <clearance> units of clearance between it and an obstacle\n",
    "\n",
    "# Map dimensions\n",
    "xlim = (0,800)\n",
    "ylim = (0,300)\n",
    "\n",
    "map_width  = np.diff(xlim)\n",
    "map_height = np.diff(ylim)\n",
    "\n",
    "# Define map\n",
    "env = Map(origin=(0,0), xlim=xlim, ylim=ylim, resolution=grid_res, lefthanded=True) # arraylike indiates dimensions are left-handed\n",
    "\n",
    "obstacles = [\n",
    "    # Outer borders - start and endpoints\n",
    "    [(0,0),(800,0)],\n",
    "    [(0,0),(0,300)],\n",
    "    [(800,0),(800,300)],\n",
    "    [(0,300),(800,300)],\n",
    "    # Inner borders\n",
    "    [(200,0),(200,200)],\n",
    "    [(100,200),(300,200)],\n",
    "    [(400,300),(400,100)],\n",
    "    [(600,0),(600,200)],\n",
    "    [(500,200),(700,200)]\n",
    "]\n",
    "\n",
    "[env.draw_line(*o) for o in obstacles];\n",
    "\n"
   ]
  },
  {
   "cell_type": "code",
   "execution_count": null,
   "metadata": {},
   "outputs": [],
   "source": [
    "env.grid"
   ]
  },
  {
   "cell_type": "code",
   "execution_count": null,
   "metadata": {},
   "outputs": [],
   "source": [
    "fig, ax = plt.subplots(figsize=(20,20), facecolor='white')\n",
    "\n",
    "# Plot environment\n",
    "scaled_grid = np.kron(env.grid, np.ones((2, 2), dtype=env.grid.dtype)) # Inflate so each grid square is 2x2 pixels\n",
    "ax.imshow(scaled_grid, cmap='gray_r')\n",
    "# Plot start and end points with x markers\n",
    "start = np.array([50,50])\n",
    "end = np.array([750,50])\n",
    "plt.scatter(x=[start[0],end[0]], y=[start[1],end[1]], \n",
    "            marker='x', c=['g','r'], s=500, linewidth=5)\n",
    "\n",
    "# Formatting\n",
    "plt.title('Environment Map', fontsize=36, pad=40)\n",
    "ax.tick_params(axis='both', labelsize=20)\n",
    "ax.annotate(xy=start, xytext=[-30,-50], textcoords='offset points',\n",
    "             text='start', fontsize=26)\n",
    "ax.annotate(xy=end, xytext=[-25,-50], textcoords='offset points',\n",
    "             text='goal', fontsize=26);"
   ]
  },
  {
   "cell_type": "markdown",
   "metadata": {},
   "source": [
    "To determine the free configuration space of the robot at each orientation, we can first find the complement of the freespace by convolving the robot at each orientation with the environmental grid. Any resulting point with a nonzero value represents nonzero overlap between the robot and a wall, and therefore an invalid configuration."
   ]
  },
  {
   "cell_type": "code",
   "execution_count": 10,
   "metadata": {
    "scrolled": false
   },
   "outputs": [
    {
     "name": "stdout",
     "output_type": "stream",
     "text": [
      "0\n",
      "5\n",
      "10\n",
      "15\n",
      "20\n",
      "25\n",
      "30\n",
      "35\n",
      "40\n",
      "45\n",
      "50\n",
      "55\n",
      "60\n",
      "65\n",
      "70\n",
      "75\n",
      "80\n",
      "85\n"
     ]
    }
   ],
   "source": [
    "from scipy.ndimage import rotate\n",
    "\n",
    "# The configuration space will be a 3D array where the first two dimensions are those of\n",
    "# env_grid, and the third dimension spans the angle space.\n",
    "# NOTE: A square has rotational symmetry of order 4 -> therefore, we only need to consider \n",
    "# rotations (in degrees) mod(theta,360/4), i.e. the rotations [0,90).\n",
    "orientation = np.arange(0,360//4,angle_res)\n",
    "cspace = np.zeros((*env.grid.shape,*orientation.shape))\n",
    "\n",
    "# Create mask of robot to convolve along grid at orientation 0\n",
    "robot = np.ones(robot_dims//grid_res)\n",
    "\n",
    "\n",
    "for i,theta in enumerate(orientation):\n",
    "    # For each orientation, rotate the robot mask and convolve with the unrotated grid. \n",
    "    robot_rotated = rotate(robot,angle=theta)\n",
    "    output = convolve2d(env.grid, robot_rotated, mode='same') # fillvalue=1) # fillvalue=1 to mark points outside the grid as invalid\n",
    "    \n",
    "    # Any nonzero square in the output corresponds to a collision/an invalid configuration.\n",
    "    output[np.nonzero(output)] = 1\n",
    "    \n",
    "    # Store each slice in cspace array.\n",
    "    cspace[...,i] = output\n",
    "    "
   ]
  },
  {
   "cell_type": "code",
   "execution_count": 102,
   "metadata": {
    "scrolled": false
   },
   "outputs": [
    {
     "data": {
      "image/png": "[encoded data removed]",
      "text/plain": [
       "<Figure size 576x720 with 3 Axes>"
      ]
     },
     "metadata": {},
     "output_type": "display_data"
    }
   ],
   "source": [
    "\n",
    "\n",
    "# Plot cspace at theta = 0, 45, 90\n",
    "theta_test = [0,45,90]\n",
    "\n",
    "fig, axes = plt.subplots(len(theta_test), figsize=(8,10), facecolor='white')\n",
    "xticks = np.linspace(0,cspace.shape[1]-1,2).astype(int)\n",
    "yticks = np.linspace(0,cspace.shape[0]-1,2).astype(int)\n",
    "xlabels = (xticks*grid_res).astype(str)\n",
    "ylabels = (yticks*grid_res).astype(str)\n",
    "\n",
    "for ax,theta in zip(axes,theta_test):\n",
    "    th = (theta % 90) // angle_res # mod 90 to account for symmetry\n",
    "    ax.imshow(cspace[...,th], cmap='gray_r')\n",
    "    \n",
    "    # Formatting\n",
    "    ax.set_title(r'$\\theta={}^o$'.format(theta), y=-0.3, fontsize=20)\n",
    "    ax.set_xticks(ticks=xticks)\n",
    "    ax.set_xticklabels(labels=xlabels, fontsize=16)\n",
    "    ax.set_yticks(ticks=yticks)\n",
    "    ax.set_yticklabels(labels=ylabels, fontsize=16)\n",
    "    \n",
    "\n",
    "    \n",
    "fig.tight_layout()\n",
    "# fig.suptitle(r'$C_{{xy}}$-space at orientation$=\\theta$', fontsize=22) #, pad=40)\n",
    "fig.subplots_adjust(#top=0.85, \n",
    "    hspace=0.65)"
   ]
  },
  {
   "cell_type": "code",
   "execution_count": null,
   "metadata": {},
   "outputs": [],
   "source": []
  }
 ],
 "metadata": {
  "kernelspec": {
   "display_name": "Python 3",
   "language": "python",
   "name": "python3"
  },
  "language_info": {
   "codemirror_mode": {
    "name": "ipython",
    "version": 3
   },
   "file_extension": ".py",
   "mimetype": "text/x-python",
   "name": "python",
   "nbconvert_exporter": "python",
   "pygments_lexer": "ipython3",
   "version": "3.7.9"
  }
 },
 "nbformat": 4,
 "nbformat_minor": 2
}
