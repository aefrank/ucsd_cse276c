{
 "cells": [
  {
   "cell_type": "code",
   "execution_count": 4,
   "metadata": {},
   "outputs": [],
   "source": [
    "import numpy as np\n",
    "import scipy as sp\n",
    "import sklearn as skl\n",
    "from sklearn.tree import DecisionTreeClassifier\n",
    "from sklearn.metrics import confusion_matrix, plot_confusion_matrix, accuracy_score\n",
    "from skimage.transform import resize, downscale_local_mean\n",
    "import matplotlib as mpl\n",
    "import matplotlib.pyplot as plt\n",
    "import zipfile as zf\n",
    "import pandas as pd\n",
    "# import cv2\n",
    "import PIL as pil"
   ]
  },
  {
   "cell_type": "code",
   "execution_count": 2,
   "metadata": {},
   "outputs": [],
   "source": [
    "archive = zf.ZipFile('data/archive.zip')\n",
    "\n",
    "metafile  = archive.open('Meta.csv')\n",
    "testfile  = archive.open('Test.csv')\n",
    "trainfile = archive.open('Train.csv')\n",
    "\n",
    "meta  = pd.read_csv(metafile)\n",
    "test  = pd.read_csv(testfile)\n",
    "train = pd.read_csv(trainfile)\n",
    "\n",
    "train_images = [ mpl.image.imread(archive.open(imfile)) for imfile in train.Path]\n",
    "train_labels = np.array(train.ClassId)\n",
    "\n",
    "test_images = [ mpl.image.imread(archive.open(imfile)) for imfile in test.Path]\n",
    "test_labels = np.array(test.ClassId)"
   ]
  },
  {
   "cell_type": "code",
   "execution_count": 39,
   "metadata": {},
   "outputs": [],
   "source": [
    "#     img /= np.expand_dims(np.ptp(img,axis=2),-1)\n",
    "#     img -= np.expand_dims(np.min(img,axis=2),-1)\n",
    "\n",
    "def adjust_range(img, force_255=False):\n",
    "    ''' Handle the fact that some pixel values are outside [0,1] range.'''\n",
    "    img /= np.ptp(img)\n",
    "    img -= np.min(img)\n",
    "    \n",
    "    if force_255:\n",
    "        img *= 255\n",
    "        img = img.astype(int)\n",
    "    \n",
    "    return img"
   ]
  },
  {
   "cell_type": "code",
   "execution_count": 20,
   "metadata": {},
   "outputs": [],
   "source": [
    "trainset = [resize(img,(50,50,3)) for img in train_images]"
   ]
  },
  {
   "cell_type": "code",
   "execution_count": 40,
   "metadata": {},
   "outputs": [],
   "source": [
    "norm_trainset = [adjust_range(img,force_255=True) for img in trainset]"
   ]
  },
  {
   "cell_type": "code",
   "execution_count": 43,
   "metadata": {},
   "outputs": [
    {
     "data": {
      "text/plain": [
       "<matplotlib.image.AxesImage at 0x7fc3ad530e10>"
      ]
     },
     "execution_count": 43,
     "metadata": {},
     "output_type": "execute_result"
    },
    {
     "data": {
      "image/png": "[encoded data removed]",
      "text/plain": [
       "<Figure size 432x288 with 1 Axes>"
      ]
     },
     "metadata": {
      "needs_background": "light"
     },
     "output_type": "display_data"
    }
   ],
   "source": [
    "plt.imshow(norm_trainset[2])"
   ]
  },
  {
   "cell_type": "code",
   "execution_count": 48,
   "metadata": {},
   "outputs": [],
   "source": [
    "train_data = norm_trainset\n",
    "train_data = np.reshape(train_data, (len(train_data),-1))"
   ]
  },
  {
   "cell_type": "code",
   "execution_count": null,
   "metadata": {},
   "outputs": [],
   "source": [
    "pca = skl.decomposition.PCA()\n",
    "pca_train = pca.fit_transform(train_data)"
   ]
  },
  {
   "cell_type": "code",
   "execution_count": 46,
   "metadata": {},
   "outputs": [
    {
     "data": {
      "text/plain": [
       "(39209, 50, 50, 3)"
      ]
     },
     "execution_count": 46,
     "metadata": {},
     "output_type": "execute_result"
    }
   ],
   "source": []
  },
  {
   "cell_type": "code",
   "execution_count": null,
   "metadata": {},
   "outputs": [],
   "source": []
  }
 ],
 "metadata": {
  "kernelspec": {
   "display_name": "Python 3",
   "language": "python",
   "name": "python3"
  },
  "language_info": {
   "codemirror_mode": {
    "name": "ipython",
    "version": 3
   },
   "file_extension": ".py",
   "mimetype": "text/x-python",
   "name": "python",
   "nbconvert_exporter": "python",
   "pygments_lexer": "ipython3",
   "version": "3.7.9"
  }
 },
 "nbformat": 4,
 "nbformat_minor": 4
}
