{
 "cells": [
  {
   "cell_type": "markdown",
   "metadata": {},
   "source": [
    "# Attempting problem 3 using Minkowski sum for collision detection"
   ]
  },
  {
   "cell_type": "code",
   "execution_count": 2,
   "metadata": {},
   "outputs": [],
   "source": [
    "# Standard imports\n",
    "import numpy as np\n",
    "import matplotlib.pyplot as plt\n",
    "import itertools as it\n",
    "\n",
    "# scikit-geometry version 0.1 (https://github.com/scikit-geometry/scikit-geometry)\n",
    "import skgeom as sg\n",
    "from skgeom import minkowski, boolean_set\n",
    "\n",
    "# Custom modules\n",
    "from lib import myhelpers as hlp\n",
    "from lib.envmap import Map, Rect"
   ]
  },
  {
   "cell_type": "markdown",
   "metadata": {},
   "source": [
    "From lecture: \"If Pis an obstacle in the workspace and Mis a moving object. Then the C-space obstacle corresponding to P is P(-)M\" where (-) represents Minkowski difference."
   ]
  },
  {
   "cell_type": "code",
   "execution_count": 6,
   "metadata": {},
   "outputs": [],
   "source": [
    "# Start and end locations\n",
    "start = np.array([50,50])\n",
    "end   = np.array([750,50])\n",
    "\n",
    "# Robot\n",
    "robot_pts = np.array(\n",
    "      [ [ 0, 0],\n",
    "        [ 0,50],\n",
    "        [50,50],\n",
    "        [50,  0] ]\n",
    ")[::-1] # I defined them in CW order instead of CCW order, so reverse\n",
    "robot_pts = robot_pts + np.array(start) # translate to starting position\n",
    "robot_pts = -robot_pts # reflect to turn minkowski sum into difference\n",
    "\n",
    "robot = sg.Polygon([sg.Point2(*p) for p in robot_pts])\n",
    "\n",
    "# Given resolution of 2 pixels, each obstacle line will have a width of 2\n",
    "obstacles = [\n",
    "    # Outer borders - start and endpoints\n",
    "    [(0,0),(800,0)],\n",
    "    [(0,0),(0,300)],\n",
    "    [(800,0),(800,300)],\n",
    "    [(0,300),(800,300)],\n",
    "    # Inner borders\n",
    "    [(200,0),(200,200)],\n",
    "    [(100,200),(300,200)],\n",
    "    [(400,300),(400,100)],\n",
    "    [(600,0),(600,200)],\n",
    "    [(500,200),(700,200)]\n",
    "]\n",
    "\n",
    "obstacles = np.array(obstacles)\n"
   ]
  },
  {
   "cell_type": "markdown",
   "metadata": {},
   "source": [
    "### Calculate Minkowski sum of reflection of robot (-R) and each line segment obstacle.\n",
    "\n",
    "Line segment obstacles are inflated to a width of 2 centered on its location. Width of 2 is chosen because it is the resolution."
   ]
  },
  {
   "cell_type": "code",
   "execution_count": 8,
   "metadata": {},
   "outputs": [
    {
     "data": {
      "image/png": "[encoded data removed]",
      "text/plain": [
       "<Figure size 432x288 with 1 Axes>"
      ]
     },
     "metadata": {
      "needs_background": "light"
     },
     "output_type": "display_data"
    }
   ],
   "source": [
    "\n",
    "\n",
    "# Do it once to start then iterate\n",
    "obs = obstacles[0]\n",
    "# Calculate the normal\n",
    "n = [obs[1,1]-obs[0,1],obs[1,0]-obs[0,0]]\n",
    "n /= np.linalg.norm(n)\n",
    "# Create polygon centered on line segment with thickness 2 (expand 1 in normal directions)\n",
    "P = sg.Polygon(np.concatenate([obs-n,obs[::-1]+n]))\n",
    "# Ensure proper orientation (CCW)\n",
    "if P.area() < 0:\n",
    "     P = sg.Polygon(np.concatenate([obs[::-1]-n,obs+n]))\n",
    "#Calculate Minkowski Sum (remember, robot was reflected, so this is the M. difference)\n",
    "union = sg.minkowski.minkowski_sum(P,robot)\n",
    "\n",
    "for i,obs in enumerate(obstacles[1:]):\n",
    "    # Calculate the normal\n",
    "    n = [obs[1,1]-obs[0,1],obs[1,0]-obs[0,0]]\n",
    "    n /= np.linalg.norm(n)\n",
    "    # Create polygon centered on line segment with thickness 2 (expand 1 in normal directions)\n",
    "    P = sg.Polygon(np.concatenate([obs-n,obs[::-1]+n]))\n",
    "    # Ensure proper orientation (CCW)\n",
    "    if P.area() < 0:\n",
    "         P = sg.Polygon(np.concatenate([obs[::-1]-n,obs+n]))\n",
    "    #Calculate Minkowski Sum (remember, robot was reflected, so this is the M. difference)\n",
    "    ms = sg.minkowski.minkowski_sum(P,robot)\n",
    "    \n",
    "    # Union of all obstacles\n",
    "    union = boolean_set.join(union,ms)\n",
    "\n",
    "# Note: I don't know how to flip the axes, so right now the y-axis is in the wrong\n",
    "# direction, and the axes are right-handed, not left-handed.\n",
    "sg.draw.draw(union)\n"
   ]
  },
  {
   "cell_type": "markdown",
   "metadata": {},
   "source": [
    "### Refs (for intuition)\n",
    "\\\n",
    "\\\n",
    "http://twistedoakstudios.com/blog/Post554_minkowski-sums-and-differences\n",
    "https://www.slideshare.net/crowdscontrol/minkowski-sum-on-2d-geometry"
   ]
  },
  {
   "cell_type": "code",
   "execution_count": null,
   "metadata": {},
   "outputs": [],
   "source": []
  }
 ],
 "metadata": {
  "kernelspec": {
   "display_name": "Python 3",
   "language": "python",
   "name": "python3"
  },
  "language_info": {
   "codemirror_mode": {
    "name": "ipython",
    "version": 3
   },
   "file_extension": ".py",
   "mimetype": "text/x-python",
   "name": "python",
   "nbconvert_exporter": "python",
   "pygments_lexer": "ipython3",
   "version": "3.7.4"
  }
 },
 "nbformat": 4,
 "nbformat_minor": 2
}
