{
 "cells": [
  {
   "cell_type": "code",
   "execution_count": 1,
   "metadata": {},
   "outputs": [],
   "source": [
    "import numpy as np\n",
    "import matplotlib.pyplot as plt"
   ]
  },
  {
   "cell_type": "code",
   "execution_count": 2,
   "metadata": {},
   "outputs": [],
   "source": [
    "###############################################################################\n",
    "########################## UTILITY FUNCTIONS ##################################\n",
    "###############################################################################\n",
    "\n",
    "def swap_rows(M,row1,row2):\n",
    "    '''\n",
    "    Swap the rows of 2D matrix M in place.\n",
    "    '''\n",
    "    M[[row1,row2]] = M[[row2,row1]]\n",
    "    \n",
    "def find_pivot_row(X,n=0):\n",
    "    '''\n",
    "    Get index of row with the largest (by magnitude) element in column n.\n",
    "    '''\n",
    "    return np.argsort(-np.abs(X[n:,n]))[0] + n\n",
    "\n",
    "\n",
    "def perm_mat(N,row1,row2):\n",
    "    '''\n",
    "    Return the permutation matrix that Swaps row1 and row2 for an NxN matrix.\n",
    "    '''\n",
    "    P = np.eye(N)\n",
    "    swap_rows(P,row1,row2)\n",
    "    return P\n",
    "\n",
    "###############################################################################\n",
    "########################## MAIN STEPS #########################################\n",
    "###############################################################################\n",
    "\n",
    "\n",
    "def permutation_step(DU,L=None,P=None,n=0):\n",
    "    '''\n",
    "    Permute X to place highest magnitude pivot of X in current row (n) by swapping,\n",
    "    and permute L to keep row correspondence and lower triangular form. Record \n",
    "    permutation in P.\n",
    "    \n",
    "    PA = LDU\n",
    "    this step permutation: Pn\n",
    "    (Pn P)A = (Pn L Pn)(Pn DU)\n",
    "    '''\n",
    "    if P is None:\n",
    "        P = np.eye(len(DU))\n",
    "    if L is None:\n",
    "        L = np.eye(len(DU))\n",
    "        \n",
    "    pivot = find_pivot_row(X=DU,n=n)\n",
    "    if pivot != n:\n",
    "        # Find permutation for this step\n",
    "        Pn = perm_mat(len(DU),pivot,n)\n",
    "        # Update total permutation matrix -> Pn(PA)\n",
    "        P = np.matmul(Pn,P)\n",
    "        DU = np.matmul(Pn,DU)\n",
    "        L = np.matmul(Pn,np.matmul(L,Pn))\n",
    "    \n",
    "    return P,L,DU\n",
    "\n",
    "\n",
    "def elimination_step(DU,L=None,n=0):\n",
    "    '''\n",
    "    Perform Gaussian elimination on rows below pivot row (n) such that\n",
    "    the only nonzero element of the pivot column is the pivot.\n",
    "    '''\n",
    "    if L is None:\n",
    "        L = np.eye(len(DU))\n",
    "\n",
    "    for nn in range(n+1,len(DU)):\n",
    "        if DU[n,n] != 0:\n",
    "            factor = DU[nn,n]/DU[n,n]\n",
    "            DU[nn] -= factor*DU[n]  # eliminate element in pivot column by subtracting \n",
    "                                            # scaled pivot row from each lower row\n",
    "            L[nn,n] = factor        # Store (inverse) elementary operations in L\n",
    "\n",
    "    return L,DU\n",
    "   \n",
    "def factor_out_D(DU):\n",
    "    '''\n",
    "    DU should be an upper triangular matrix. This function will \n",
    "    factor out the elements on the diagonal so they are set to 1.\n",
    "    The diagonal elements are returned in D, the remaining upper\n",
    "    triangular matrix (with 1s on the diag) in U.\n",
    "    '''    \n",
    "    diag = np.diag(DU)  # extract the diagonal of DU\n",
    "    D = np.diag(diag)  # make into a diagonal matrix\n",
    "    U = DU / diag[:,None]  # factor out D from DU\n",
    "    \n",
    "    return D,U\n",
    "\n",
    "###############################################################################\n",
    "################## TESTING FUNCTIONS ##########################################\n",
    "###############################################################################\n",
    "\n",
    "\n",
    "def sp_ldu(A):\n",
    "    from scipy.linalg import lu\n",
    "    inv_p,l,du = lu(A)\n",
    "    p = np.linalg.inv(inv_p)\n",
    "    d,u = factor_out_D(du)\n",
    "    return p,l,d,u\n",
    "\n",
    "def test_decomp(A,P,L,D,U):\n",
    "    p,l,d,u = sp_ldu(A)\n",
    "    assert (p == P).all()\n",
    "    assert (l == L).all()\n",
    "    assert (d == D).all()\n",
    "    assert (u == U).all()\n",
    "    print(\"Success!\")\n",
    "    \n",
    "def print_LDU(A,P,L,D,U):\n",
    "    print('A')\n",
    "    print(A)\n",
    "    print()\n",
    "    print('P')\n",
    "    print(P)\n",
    "    print('DU')\n",
    "    print(np.matmul(D,U))\n",
    "    print('L')\n",
    "    print(L)\n",
    "    print('D')\n",
    "    print(D)\n",
    "    print('U')\n",
    "    print(U)\n",
    "    print()\n",
    "    print('PA')\n",
    "    print(np.matmul(P,A))\n",
    "    print('LDU')\n",
    "    print(np.matmul(L,np.matmul(D,U)))"
   ]
  },
  {
   "cell_type": "code",
   "execution_count": 50,
   "metadata": {},
   "outputs": [],
   "source": [
    "## Matrices from hw1 problem 2\n",
    "\n",
    "A = np.array(\n",
    "    [[4, 7, 0],\n",
    "     [3, 2, 1],\n",
    "     [2, 2, -6]\n",
    "    ],\n",
    "    dtype='double'\n",
    ")\n",
    "\n",
    "B = np.array(\n",
    "    [[1,0,0,0,1],\n",
    "     [0,0,1,0,0],\n",
    "     [0,1,0,1,0],\n",
    "     [0,1,0,0,0],\n",
    "     [1,0,0,0,0],\n",
    "    ],\n",
    "    dtype='double'\n",
    ")\n",
    "\n",
    "\n",
    "C = np.array(\n",
    "    [[2, 2, 5],\n",
    "     [3, 2, 5],\n",
    "     [1, 1, 5]\n",
    "    ],\n",
    "    dtype='double'\n",
    ")"
   ]
  },
  {
   "cell_type": "code",
   "execution_count": 51,
   "metadata": {},
   "outputs": [
    {
     "name": "stdout",
     "output_type": "stream",
     "text": [
      "Success!\n",
      "Success!\n",
      "Success!\n"
     ]
    }
   ],
   "source": [
    "def LDU(A):\n",
    "    # P and L begin as identity matrices\n",
    "    P = np.eye(len(A)) # assuming square matrix\n",
    "    L = np.eye(len(A))\n",
    "    DU = A.copy() # this matrix will have L factored out until it is DU\n",
    "\n",
    "    for n in range(len(A-1)):\n",
    "        P,L,DU = permutation_step(DU=DU,L=L,P=P,n=n)\n",
    "        L,DU   = elimination_step(DU=DU,L=L,n=n)\n",
    "    D,U = factor_out_D(DU)\n",
    "    \n",
    "    return P, L, D, U\n",
    "\n",
    "X = [A,B,C]\n",
    "for x in X:\n",
    "    P,L,D,U = LDU(x)\n",
    "    test_decomp(A=x,P=P,L=L,D=D,U=U) # Check against built-in method\n",
    "\n"
   ]
  },
  {
   "cell_type": "code",
   "execution_count": 58,
   "metadata": {},
   "outputs": [
    {
     "name": "stdout",
     "output_type": "stream",
     "text": [
      "[[0. 1. 0.]\n",
      " [1. 0. 0.]\n",
      " [0. 0. 1.]]\n",
      "[[0. 1. 0.]\n",
      " [1. 0. 0.]\n",
      " [0. 0. 1.]]\n",
      "\n",
      "\n",
      "[[1.         0.         0.        ]\n",
      " [0.66666667 1.         0.        ]\n",
      " [0.33333333 0.5        1.        ]]\n",
      "[[1.         0.         0.        ]\n",
      " [0.66666667 1.         0.        ]\n",
      " [0.33333333 0.5        1.        ]]\n",
      "\n",
      "\n",
      "[[3.         0.         0.        ]\n",
      " [0.         0.66666667 0.        ]\n",
      " [0.         0.         2.5       ]]\n",
      "[[3.         0.         0.        ]\n",
      " [0.         0.66666667 0.        ]\n",
      " [0.         0.         2.5       ]]\n",
      "\n",
      "\n",
      "[[1.         0.66666667 1.66666667]\n",
      " [0.         1.         2.5       ]\n",
      " [0.         0.         1.        ]]\n",
      "[[1.         0.66666667 1.66666667]\n",
      " [0.         1.         2.5       ]\n",
      " [0.         0.         1.        ]]\n",
      "\n",
      "\n"
     ]
    }
   ],
   "source": [
    "[print(\"{}\\n{}\\n\\n\".format(x,y)) for x,y in zip(LDU(C),sp_ldu(C))];"
   ]
  },
  {
   "cell_type": "code",
   "execution_count": 5,
   "metadata": {},
   "outputs": [
    {
     "name": "stdout",
     "output_type": "stream",
     "text": [
      "\n",
      "\n",
      "----------------------\n",
      "#1:\n",
      "[[ 4.  7.  0.]\n",
      " [ 3.  2.  1.]\n",
      " [ 2.  2. -6.]]\n",
      "\n",
      "\n",
      "U:\n",
      "\n",
      "[[ 0.831  0.364 -0.421]\n",
      " [ 0.321  0.304  0.897]\n",
      " [ 0.454 -0.88   0.136]]\n",
      "\n",
      "S:\n",
      "[9.331 5.79  1.555]\n",
      "\n",
      "V:\n",
      "[[ 0.557  0.79  -0.258]\n",
      " [ 0.105  0.241  0.965]\n",
      " [ 0.824 -0.564  0.051]]\n",
      "\n",
      "\n",
      "----------------------\n",
      "#2:\n",
      "[[1. 0. 0. 0. 1.]\n",
      " [0. 0. 1. 0. 0.]\n",
      " [0. 1. 0. 1. 0.]\n",
      " [0. 1. 0. 0. 0.]\n",
      " [1. 0. 0. 0. 0.]]\n",
      "\n",
      "\n",
      "U:\n",
      "\n",
      "[[-0.851  0.     0.    -0.526  0.   ]\n",
      " [ 0.     0.    -1.     0.     0.   ]\n",
      " [ 0.    -0.851  0.     0.    -0.526]\n",
      " [ 0.    -0.526  0.     0.     0.851]\n",
      " [-0.526  0.     0.     0.851  0.   ]]\n",
      "\n",
      "S:\n",
      "[1.618 1.618 1.    0.618 0.618]\n",
      "\n",
      "V:\n",
      "[[-0.851  0.     0.     0.    -0.526]\n",
      " [-0.    -0.851 -0.    -0.526  0.   ]\n",
      " [-0.    -0.    -1.    -0.     0.   ]\n",
      " [ 0.526  0.     0.     0.    -0.851]\n",
      " [ 0.     0.526  0.    -0.851  0.   ]]\n",
      "\n",
      "\n",
      "----------------------\n",
      "#3:\n",
      "[[2. 2. 5.]\n",
      " [3. 2. 5.]\n",
      " [1. 1. 5.]]\n",
      "\n",
      "\n",
      "U:\n",
      "\n",
      "[[-0.586 -0.044 -0.809]\n",
      " [-0.623 -0.614  0.485]\n",
      " [-0.518  0.788  0.332]]\n",
      "\n",
      "S:\n",
      "[9.791 1.416 0.361]\n",
      "\n",
      "V:\n",
      "[[-0.364 -0.3   -0.882]\n",
      " [-0.806 -0.373  0.459]\n",
      " [ 0.467 -0.878  0.106]]\n"
     ]
    }
   ],
   "source": [
    "# HW 1 #2: Compute SVDs\n",
    "for n,x in enumerate(X):\n",
    "    print(\"\\n\\n----------------------\\n#{}:\".format(n+1))\n",
    "    print(x)\n",
    "    u,s,v = np.linalg.svd(x,full_matrices=True)\n",
    "    print(\"\\n\\nU:\\n\")\n",
    "    print(np.round(u,3))\n",
    "    print(\"\\nS:\")\n",
    "    print(np.round(s,3))\n",
    "    print(\"\\nV:\")\n",
    "    print(np.round(v,3))"
   ]
  },
  {
   "cell_type": "code",
   "execution_count": 42,
   "metadata": {},
   "outputs": [
    {
     "name": "stdout",
     "output_type": "stream",
     "text": [
      "det(A)!=0 (5.0)-> A is non-singular, a unique solution exists.\n",
      "det(A)==0 (up to 4 dec) -> A is singular, no unique solution exists.\n",
      "det(A)==0 (up to 4 dec) -> A is singular, no unique solution exists.\n"
     ]
    }
   ],
   "source": [
    "# HW #3 -- solve Ax=b systems\n",
    "\n",
    "def unique_soln(A,dec=4):\n",
    "    d = round(np.linalg.det(A),dec)\n",
    "    if d == 0:\n",
    "        print(\"det(A)==0 (up to {} dec) -> A is singular, no unique solution exists.\".format(dec))\n",
    "        return False\n",
    "    else:\n",
    "        print(\"det(A)!=0 ({})-> A is non-singular, a unique solution exists.\".format(d))\n",
    "        return True\n",
    "              \n",
    "A3a = np.array([\n",
    "    [2,1,3],\n",
    "    [2,1,2],\n",
    "    [5,5,5]\n",
    "], dtype='double')\n",
    "\n",
    "b3a = np.array([10,-10,0], dtype='double')[:,None] # force column vector\n",
    "\n",
    "A3b = np.array([\n",
    "    [8,14,0],\n",
    "    [2,2,-6],\n",
    "    [1,2,1]\n",
    "], dtype='double')\n",
    "\n",
    "b3b = np.array([6,5,1], dtype='double')[:,None] # force column vector\n",
    "\n",
    "A3c = np.array([\n",
    "    [4,7,0],\n",
    "    [2,2,-6],\n",
    "    [1,2,1]\n",
    "], dtype='double')\n",
    "\n",
    "b3c = np.array([18,-12,8], dtype='double')[:,None] # force column vector\n",
    "\n",
    "[unique_soln(x) for x in [A3a, A3b, A3c]];\n"
   ]
  },
  {
   "cell_type": "code",
   "execution_count": 35,
   "metadata": {},
   "outputs": [
    {
     "name": "stdout",
     "output_type": "stream",
     "text": [
      "[[6.]\n",
      " [5.]\n",
      " [1.]]\n",
      "\n",
      "[[ 1.          0.          0.        ]\n",
      " [ 0.25        1.          0.        ]\n",
      " [ 0.125      -0.16666667  1.        ]]\n",
      "\n",
      "[[ 8.   0.   0. ]\n",
      " [ 0.  -1.5  0. ]\n",
      " [ 0.   0.   0. ]]\n",
      "\n",
      "[[ 1.    1.75  0.  ]\n",
      " [-0.    1.    4.  ]\n",
      " [  nan   nan   nan]]\n",
      "\n"
     ]
    },
    {
     "name": "stderr",
     "output_type": "stream",
     "text": [
      "/home/aefrank/applications/anaconda3/envs/python3/lib/python3.7/site-packages/ipykernel_launcher.py:83: RuntimeWarning: invalid value encountered in true_divide\n"
     ]
    }
   ],
   "source": [
    "P,L,D,U = LDU(A3b)\n",
    "\n",
    "Pb = np.matmul(P,b3b)\n",
    "\n",
    "[print(\"{}\\n\".format(x)) for x in [Pb,L,D,U]];"
   ]
  },
  {
   "cell_type": "code",
   "execution_count": 23,
   "metadata": {},
   "outputs": [
    {
     "data": {
      "text/plain": [
       "array([[ 0.2,  0. ,  0. ],\n",
       "       [-0. , -1. , -0. ],\n",
       "       [ 0. ,  0. ,  1. ]])"
      ]
     },
     "execution_count": 23,
     "metadata": {},
     "output_type": "execute_result"
    }
   ],
   "source": [
    "np.linalg.inv(D)"
   ]
  },
  {
   "cell_type": "code",
   "execution_count": 36,
   "metadata": {},
   "outputs": [
    {
     "data": {
      "text/plain": [
       "array([[ 1.05083991e+17],\n",
       "       [-6.00479950e+16],\n",
       "       [ 1.50119988e+16]])"
      ]
     },
     "execution_count": 36,
     "metadata": {},
     "output_type": "execute_result"
    }
   ],
   "source": [
    "np.linalg.solve(A3b,b3b)"
   ]
  },
  {
   "cell_type": "code",
   "execution_count": 59,
   "metadata": {},
   "outputs": [
    {
     "name": "stdout",
     "output_type": "stream",
     "text": [
      "[[-0.9736  0.1606 -0.1622]\n",
      " [-0.1868 -0.9689  0.1622]\n",
      " [-0.1311  0.1882  0.9733]]\n",
      "\n",
      "[16.5315  6.0587  0.    ]\n",
      "\n",
      "[[-0.5017 -0.863   0.0599]\n",
      " [-0.0767  0.1133  0.9906]\n",
      " [-0.8616  0.4924 -0.1231]]\n",
      "\n"
     ]
    }
   ],
   "source": [
    "U,S,V = [np.round(x,4) for x in np.linalg.svd(A3b)]\n",
    "\n",
    "[print(\"{}\\n\".format(x)) for x in [U, S, V]];"
   ]
  },
  {
   "cell_type": "code",
   "execution_count": 62,
   "metadata": {},
   "outputs": [
    {
     "name": "stdout",
     "output_type": "stream",
     "text": [
      "[[0.06049058 0.         0.        ]\n",
      " [0.         0.16505191 0.        ]\n",
      " [0.         0.         0.        ]]\n"
     ]
    },
    {
     "data": {
      "text/plain": [
       "array([[ 0.73559282],\n",
       "       [-0.03701038],\n",
       "       [ 0.05985662]])"
      ]
     },
     "execution_count": 62,
     "metadata": {},
     "output_type": "execute_result"
    }
   ],
   "source": [
    "# Computing A+ from ill-conditioned A\n",
    "# based on https://www.cse.unr.edu/~bebis/MathMethods/SVD/lecture.pdf\n",
    "t = 0.01\n",
    "D0_inv = np.diag([1/x if x > t else 0 for x in S])\n",
    "print(D0_inv)\n",
    "xbar = np.matmul(V,np.matmul(D0_inv,np.matmul(np.transpose(U),b3b)))\n",
    "xbar"
   ]
  },
  {
   "cell_type": "code",
   "execution_count": 63,
   "metadata": {},
   "outputs": [
    {
     "data": {
      "text/plain": [
       "array([[5.36659721],\n",
       "       [1.03802519],\n",
       "       [0.72142867]])"
      ]
     },
     "execution_count": 63,
     "metadata": {},
     "output_type": "execute_result"
    }
   ],
   "source": [
    "np.matmul(A3b,xbar)"
   ]
  },
  {
   "cell_type": "code",
   "execution_count": 65,
   "metadata": {},
   "outputs": [
    {
     "data": {
      "text/plain": [
       "array([[6.],\n",
       "       [5.],\n",
       "       [1.]])"
      ]
     },
     "execution_count": 65,
     "metadata": {},
     "output_type": "execute_result"
    }
   ],
   "source": [
    "b3b"
   ]
  },
  {
   "cell_type": "code",
   "execution_count": null,
   "metadata": {},
   "outputs": [],
   "source": []
  }
 ],
 "metadata": {
  "kernelspec": {
   "display_name": "Python 3",
   "language": "python",
   "name": "python3"
  },
  "language_info": {
   "codemirror_mode": {
    "name": "ipython",
    "version": 3
   },
   "file_extension": ".py",
   "mimetype": "text/x-python",
   "name": "python",
   "nbconvert_exporter": "python",
   "pygments_lexer": "ipython3",
   "version": "3.7.4"
  }
 },
 "nbformat": 4,
 "nbformat_minor": 2
}
