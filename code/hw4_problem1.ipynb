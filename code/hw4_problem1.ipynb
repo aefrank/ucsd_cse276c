{
 "cells": [
  {
   "cell_type": "code",
   "execution_count": 401,
   "metadata": {},
   "outputs": [],
   "source": [
    "import numpy as np\n",
    "import scipy as sp\n",
    "import sklearn as skl\n",
    "from sklearn.tree import DecisionTreeClassifier\n",
    "from sklearn.metrics import confusion_matrix, plot_confusion_matrix, accuracy_score\n",
    "from skimage.transform import resize\n",
    "import matplotlib as mpl\n",
    "import matplotlib.pyplot as plt\n",
    "import zipfile as zf\n",
    "import pandas as pd\n",
    "# import cv2\n",
    "import PIL as pil"
   ]
  },
  {
   "cell_type": "code",
   "execution_count": 2,
   "metadata": {},
   "outputs": [],
   "source": [
    "archive = zf.ZipFile('data/archive.zip')\n",
    "\n",
    "metafile  = archive.open('Meta.csv')\n",
    "testfile  = archive.open('Test.csv')\n",
    "trainfile = archive.open('Train.csv')\n",
    "\n",
    "meta  = pd.read_csv(metafile)\n",
    "test  = pd.read_csv(testfile)\n",
    "train = pd.read_csv(trainfile)\n",
    "\n",
    "train_images = [ mpl.image.imread(archive.open(imfile)) for imfile in train.Path]\n",
    "train_labels = np.array(train.ClassId)\n",
    "\n",
    "test_images = [ mpl.image.imread(archive.open(imfile)) for imfile in test.Path]\n",
    "test_labels = np.array(test.ClassId)"
   ]
  },
  {
   "cell_type": "code",
   "execution_count": 338,
   "metadata": {},
   "outputs": [],
   "source": [
    "def get_img_ndims(img):\n",
    "    # Check if image is 3D. If 2D, assume grayscale. \n",
    "    # Also, if last dimension is not of length 3, assume image is \n",
    "    # grayscale and any additional leading dimensions describe\n",
    "    # array of images and should be preserved.\n",
    "    input_dims = np.ndim(img)\n",
    "    if input_dims < 3 or img.shape[-1] != 3:\n",
    "        img_dims = 2\n",
    "    else: \n",
    "        img_dims = 3\n",
    "        \n",
    "    return img_dims\n",
    "\n",
    "\n",
    "def adjust_range(img):\n",
    "    ''' Handle the fact that some pixel values are outside [0,1] range.'''\n",
    "    img_dims = get_img_ndims(img)\n",
    "    pixel_axes = tuple(np.arange(np.ndim(img)-img_dims,np.ndim(img)))\n",
    "    rescaled_img  = img/np.ptp(img,axis=pixel_axes)\n",
    "    rescaled_img -= np.min(rescaled_img,axis=pixel_axes)\n",
    "    \n",
    "    return rescaled_img\n",
    "\n",
    "\n",
    "def flatten(img, rgb2gray=False):\n",
    "    # Convert image to grayscale first\n",
    "    if rgb2gray:\n",
    "        img = np.mean(img,axis=-1)\n",
    "        \n",
    "    img = np.ravel(img)\n",
    "    \n",
    "    return img\n",
    "\n",
    "\n",
    "def process(img, resize_to=None, flat=True, rgb2gray=False):\n",
    "    # Resize image to desired size\n",
    "    if resize_to is not None:\n",
    "        img = resize(img, crop_to) \n",
    "        \n",
    "    # Rescale image to have all pixel values on [0,1]\n",
    "    img = adjust_range(img)\n",
    "    \n",
    "    if flat:\n",
    "        img = flatten(img, rgb2gray=rgb2gray)\n",
    "    return img\n",
    "\n",
    "\n",
    "shapes = np.array([im.shape for im in train_images])\n",
    "resize_to = np.min(shapes,axis=0)\n",
    "\n",
    "train_data = np.array([process(img, resize_to=resize_to, flat=True) for img in train_images])\n",
    "test_data  = np.array([process(img, resize_to=resize_to, flat=True) for img in test_images]) "
   ]
  },
  {
   "cell_type": "code",
   "execution_count": 308,
   "metadata": {},
   "outputs": [],
   "source": [
    "pca = skl.decomposition.PCA()\n",
    "pca_train = pca.fit_transform(train_data)"
   ]
  },
  {
   "cell_type": "code",
   "execution_count": 343,
   "metadata": {},
   "outputs": [],
   "source": [
    "dtree = DecisionTreeClassifier()\n",
    "\n",
    "dtree.fit(pca_train, train_labels)\n",
    "\n",
    "\n",
    "pca_test = pca.transform(test_data)\n",
    "\n",
    "# predict labels using the trained classifier\n",
    "predicted_test_labels = dtree.predict(pca_test)"
   ]
  },
  {
   "cell_type": "code",
   "execution_count": 351,
   "metadata": {},
   "outputs": [],
   "source": [
    "cm = confusion_matrix(test_labels, predicted_test_labels)"
   ]
  },
  {
   "cell_type": "code",
   "execution_count": 356,
   "metadata": {},
   "outputs": [
    {
     "data": {
      "text/plain": [
       "<matplotlib.image.AxesImage at 0x7ff3bca2ccd0>"
      ]
     },
     "execution_count": 356,
     "metadata": {},
     "output_type": "execute_result"
    },
    {
     "data": {
      "image/png": "[encoded data removed]",
      "text/plain": [
       "<Figure size 576x576 with 1 Axes>"
      ]
     },
     "metadata": {
      "needs_background": "light"
     },
     "output_type": "display_data"
    }
   ],
   "source": [
    "plt.figure(figsize=(8,8))\n",
    "plt.imshow(cm)"
   ]
  },
  {
   "cell_type": "code",
   "execution_count": 409,
   "metadata": {},
   "outputs": [
    {
     "data": {
      "text/plain": [
       "0.3728424386381631"
      ]
     },
     "execution_count": 409,
     "metadata": {},
     "output_type": "execute_result"
    }
   ],
   "source": [
    "accuracy_score(test_labels, predicted_test_labels) "
   ]
  },
  {
   "cell_type": "code",
   "execution_count": null,
   "metadata": {},
   "outputs": [],
   "source": []
  }
 ],
 "metadata": {
  "kernelspec": {
   "display_name": "Python 3",
   "language": "python",
   "name": "python3"
  },
  "language_info": {
   "codemirror_mode": {
    "name": "ipython",
    "version": 3
   },
   "file_extension": ".py",
   "mimetype": "text/x-python",
   "name": "python",
   "nbconvert_exporter": "python",
   "pygments_lexer": "ipython3",
   "version": "3.7.9"
  }
 },
 "nbformat": 4,
 "nbformat_minor": 4
}
