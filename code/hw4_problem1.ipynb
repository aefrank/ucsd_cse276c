{
 "cells": [
  {
   "cell_type": "code",
   "execution_count": 21,
   "metadata": {},
   "outputs": [],
   "source": [
    "import numpy as np\n",
    "import scipy as sp\n",
    "import matplotlib.pyplot as plt\n",
    "import zipfile as zf\n",
    "import pandas as pd\n",
    "import cv2"
   ]
  },
  {
   "cell_type": "code",
   "execution_count": 33,
   "metadata": {},
   "outputs": [],
   "source": [
    "archive = zf.ZipFile('data/archive.zip')"
   ]
  },
  {
   "cell_type": "code",
   "execution_count": 13,
   "metadata": {},
   "outputs": [],
   "source": [
    "metafile  = archive.open('Meta.csv')\n",
    "testfile  = archive.open('Test.csv')\n",
    "trainfile = archive.open('Train.csv')"
   ]
  },
  {
   "cell_type": "code",
   "execution_count": 14,
   "metadata": {},
   "outputs": [],
   "source": [
    "meta  = pd.read_csv(metafile)\n",
    "test  = pd.read_csv(testfile)\n",
    "train = pd.read_csv(trainfile)"
   ]
  },
  {
   "cell_type": "code",
   "execution_count": 45,
   "metadata": {},
   "outputs": [],
   "source": [
    "train_images = [cv2.imdecode( np.frombuffer( archive.open(imfile).read() , np.uint8), 1)  \\\n",
    "                for imfile in train.Path]"
   ]
  },
  {
   "cell_type": "code",
   "execution_count": 66,
   "metadata": {},
   "outputs": [
    {
     "name": "stdout",
     "output_type": "stream",
     "text": [
      "0 0.5\n",
      "1 0.5\n"
     ]
    }
   ],
   "source": [
    "\n",
    "\n",
    "def PCA(data):\n",
    "    ''' \n",
    "    Perform Principal Component Analysis on input matrix. Input matrix should be\n",
    "    a 2d matrix that represents all train data for a given class, such that each \n",
    "    row represents one flattened image from the dataset. \n",
    "    \n",
    "    Returns eigenvalues and eigenvectors sorted from highest eigenvalue to lowest.\n",
    "    '''\n",
    "    \n",
    "    # Standardize image to mean=0, sd=1\n",
    "    avg = np.mean(data)\n",
    "    sd = np.std(data)\n",
    "    data = (data-avg)/sd\n",
    "\n",
    "    # Find the covariance matrix for the points\n",
    "    cov = np.cov(data)\n",
    "\n",
    "    # Find eigen-decomposition of cov matrix\n",
    "    eigenvals, eigenvecs = np.linalg.eig(cov)\n",
    "\n",
    "    # Make sure they are sorted from highest eigenvalue to lowest\n",
    "    order = eigenvals.argsort()[::-1]\n",
    "    eigenvals = eigenvals[order]\n",
    "    eigenvecs = eigenvecs[:,order]\n",
    "    \n",
    "    # Return\n",
    "    return eigenvals, eigenvecs\n",
    "\n",
    "   \n",
    "def flatten(img, crop_to=None):\n",
    "    # Crop image to desired size before flattening\n",
    "    if crop_to is not None:\n",
    "        trim = np.array(img.shape[:len(crop_to)]) - crop_to\n",
    "        sides = trim/2\n",
    "        # TODO: initialize crop array and then assign values in for loop below\n",
    "        for i,s in enumerate(sides):\n",
    "            print(i,s)\n",
    "#         for dim in half:\n",
    "#             print(dim)\n",
    "#             if dim % 1 != 0:\n",
    "#                 left = np.floor(dim)\n",
    "\n",
    "img = train_images[0]\n",
    "crop_to = np.array(img.shape[:2])-1\n",
    "flatten(img, crop_to=crop_to)"
   ]
  },
  {
   "cell_type": "code",
   "execution_count": 50,
   "metadata": {},
   "outputs": [],
   "source": [
    "if None:\n",
    "    print('bep')"
   ]
  },
  {
   "cell_type": "code",
   "execution_count": 51,
   "metadata": {},
   "outputs": [
    {
     "data": {
      "text/plain": [
       "array([[[ 56,  51,  46],\n",
       "        [ 56,  51,  48],\n",
       "        [ 54,  51,  50],\n",
       "        ...,\n",
       "        [ 49,  48,  50],\n",
       "        [ 51,  50,  50],\n",
       "        [ 49,  49,  46]],\n",
       "\n",
       "       [[ 56,  51,  47],\n",
       "        [ 54,  49,  47],\n",
       "        [ 54,  50,  49],\n",
       "        ...,\n",
       "        [ 49,  49,  53],\n",
       "        [ 55,  57,  57],\n",
       "        [ 50,  50,  46]],\n",
       "\n",
       "       [[ 56,  51,  48],\n",
       "        [ 52,  48,  46],\n",
       "        [ 52,  49,  47],\n",
       "        ...,\n",
       "        [ 53,  53,  59],\n",
       "        [ 61,  64,  64],\n",
       "        [ 53,  54,  48]],\n",
       "\n",
       "       ...,\n",
       "\n",
       "       [[ 55,  51,  47],\n",
       "        [ 54,  51,  49],\n",
       "        [ 54,  52,  52],\n",
       "        ...,\n",
       "        [ 61,  77,  89],\n",
       "        [ 62,  80,  91],\n",
       "        [ 49,  62,  73]],\n",
       "\n",
       "       [[ 56,  53,  49],\n",
       "        [ 59,  55,  53],\n",
       "        [ 56,  53,  53],\n",
       "        ...,\n",
       "        [ 70,  94, 107],\n",
       "        [ 66,  93,  99],\n",
       "        [ 55,  73,  72]],\n",
       "\n",
       "       [[ 55,  52,  51],\n",
       "        [ 61,  55,  54],\n",
       "        [ 58,  54,  53],\n",
       "        ...,\n",
       "        [ 80, 112, 116],\n",
       "        [ 61,  98,  98],\n",
       "        [ 62,  85,  80]]], dtype=uint8)"
      ]
     },
     "execution_count": 51,
     "metadata": {},
     "output_type": "execute_result"
    }
   ],
   "source": [
    "train_images[0]"
   ]
  },
  {
   "cell_type": "code",
   "execution_count": null,
   "metadata": {},
   "outputs": [],
   "source": []
  }
 ],
 "metadata": {
  "kernelspec": {
   "display_name": "Python 3",
   "language": "python",
   "name": "python3"
  },
  "language_info": {
   "codemirror_mode": {
    "name": "ipython",
    "version": 3
   },
   "file_extension": ".py",
   "mimetype": "text/x-python",
   "name": "python",
   "nbconvert_exporter": "python",
   "pygments_lexer": "ipython3",
   "version": "3.7.4"
  }
 },
 "nbformat": 4,
 "nbformat_minor": 4
}
