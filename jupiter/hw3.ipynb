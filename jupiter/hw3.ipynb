{
 "cells": [
  {
   "cell_type": "code",
   "execution_count": 29,
   "metadata": {},
   "outputs": [],
   "source": [
    "import numpy as np\n",
    "from math import sin, sqrt, pi, e, exp"
   ]
  },
  {
   "cell_type": "markdown",
   "metadata": {},
   "source": [
    "## Problem 1"
   ]
  },
  {
   "cell_type": "code",
   "execution_count": 19,
   "metadata": {},
   "outputs": [],
   "source": [
    "def V(t):\n",
    "    return 1000*sin(sqrt(pi*t))\n",
    "\n",
    "def f(x,y):\n",
    "    R = 1000 # Ohms\n",
    "    C = 0.002 # F\n",
    "    return V(x)/R - y/(R*C)\n",
    "    "
   ]
  },
  {
   "cell_type": "code",
   "execution_count": 23,
   "metadata": {},
   "outputs": [],
   "source": [
    "# Runge-Kutta method\n",
    "\n",
    "def k1(x,y,h):\n",
    "    return h*f(x=x,y=y)\n",
    "\n",
    "def k2(x,y,h):\n",
    "    K1 = k1(x=x,y=y,h=h)\n",
    "    return h*f(x=x+h/2,y=y+K1/2)\n",
    "\n",
    "def k3(x,y,h):\n",
    "    K2 = k2(x=x,y=y,h=h)\n",
    "    return h*f(x=x+h/2,y=y+K2/2)\n",
    "\n",
    "def k4(x,y,h):\n",
    "    K3 = k2(x=x,y=y,h=h)\n",
    "    return h*f(x=x+h,y=y+K3)\n",
    "\n",
    "def RK4(x,y,h):\n",
    "    '''\n",
    "    Runs 4xh order Runge-Kuxxa mexhod to find y(x') at x'=(x+h) given x, y(x), and h.\n",
    "    '''\n",
    "    return y + k1(x=x,y=y,h=h)/6 + k2(x=x,y=y,h=h)/3 \\\n",
    "             + k3(x=x,y=y,h=h)/3 + k4(x=x,y=y,h=h)/6\n",
    "    "
   ]
  },
  {
   "cell_type": "code",
   "execution_count": 26,
   "metadata": {},
   "outputs": [
    {
     "data": {
      "text/plain": [
       "-0.13520091347565355"
      ]
     },
     "execution_count": 26,
     "metadata": {},
     "output_type": "execute_result"
    }
   ],
   "source": [
    "# k4 calculation from by-hand derivation, to check against programmed solution\n",
    "0.1*sin(sqrt(pi*0.1)) + 0.004875*sin(sqrt(0.05*pi)) - 0.19024375"
   ]
  },
  {
   "cell_type": "code",
   "execution_count": 27,
   "metadata": {},
   "outputs": [
    {
     "data": {
      "text/plain": [
       "3.8388692837783074"
      ]
     },
     "execution_count": 27,
     "metadata": {},
     "output_type": "execute_result"
    }
   ],
   "source": [
    "RK4(x=0,y=4,h=0.1)"
   ]
  },
  {
   "cell_type": "markdown",
   "metadata": {},
   "source": [
    "## Problem 2"
   ]
  },
  {
   "cell_type": "code",
   "execution_count": 44,
   "metadata": {},
   "outputs": [],
   "source": [
    "def fX(x):\n",
    "    if 0 <= x <= 1:\n",
    "        return 1/e * exp(x) * (x+1)\n",
    "    else:\n",
    "        return 0\n",
    "    \n",
    "def array1D_fX(x):\n",
    "    ''' Broadcast fX(x) elementwise through 1D array.'''\n",
    "    return np.array([fX(elem) for elem in x])"
   ]
  },
  {
   "cell_type": "code",
   "execution_count": 45,
   "metadata": {},
   "outputs": [],
   "source": [
    "import matplotlib.pyplot as plt"
   ]
  },
  {
   "cell_type": "code",
   "execution_count": 100,
   "metadata": {},
   "outputs": [
    {
     "data": {
      "image/png": "[encoded data removed]",
      "text/plain": [
       "<Figure size 720x432 with 1 Axes>"
      ]
     },
     "metadata": {},
     "output_type": "display_data"
    }
   ],
   "source": [
    "fig, ax = plt.subplots(figsize=(10,6), facecolor='white')\n",
    "ax.margins(x=100,y=10)\n",
    "\n",
    "# Params\n",
    "xlims = [-0.5,1.5]\n",
    "ylims = [0,2]\n",
    "xtick_step = 0.5\n",
    "ytick_step = 0.5\n",
    "\n",
    "# Plotting\n",
    "x = np.arange(xlims[0],xlims[1],0.01)\n",
    "ax.plot(x,(array1D_fX(x)))\n",
    "\n",
    "# Formatting\n",
    "plt.title(r'$f_X(x)=\\frac{1}{e} \\; [ \\; e^x \\; (x+1) \\; ]$', fontsize=20, pad=40)\n",
    "ax.set(xlim=xlims, ylim=ylims)\n",
    "ax.set_xlabel(r'$x$', fontsize=16, labelpad=10)\n",
    "ax.set_ylabel(r'$f_X(x)$', fontsize=16, labelpad=10)\n",
    "ax.xaxis.set(ticks=np.arange(xlims[0],xlims[1]+xtick_step, xtick_step))\n",
    "ax.yaxis.set(ticks=np.arange(ylims[0],ylims[1]+ytick_step, ytick_step))\n",
    "ax.grid('on')"
   ]
  },
  {
   "cell_type": "code",
   "execution_count": 113,
   "metadata": {},
   "outputs": [
    {
     "data": {
      "text/plain": [
       "1.083492405630938"
      ]
     },
     "execution_count": 113,
     "metadata": {},
     "output_type": "execute_result"
    }
   ],
   "source": [
    "# 2a -- Right Rectangular sum\n",
    "\n",
    "h=0.1\n",
    "X = np.arange(0,1,h)\n",
    "tot = 0\n",
    "for x in X:\n",
    "    tot += fX(x+h)\n",
    "    \n",
    "right_rect_est = tot * h\n",
    "right_rect_est\n",
    "    "
   ]
  },
  {
   "cell_type": "code",
   "execution_count": 114,
   "metadata": {},
   "outputs": [
    {
     "data": {
      "text/plain": [
       "0.9990569948560943"
      ]
     },
     "execution_count": 114,
     "metadata": {},
     "output_type": "execute_result"
    }
   ],
   "source": [
    "# 2b -- Midpoint sum\n",
    "\n",
    "h=0.1\n",
    "X = np.arange(0,1,h)\n",
    "\n",
    "summation = 0\n",
    "for x in X:\n",
    "    summation += fX(x+h/2)\n",
    "    \n",
    "midpoint_est = summation * h\n",
    "midpoint_est"
   ]
  },
  {
   "cell_type": "code",
   "execution_count": 115,
   "metadata": {},
   "outputs": [
    {
     "data": {
      "text/plain": [
       "1.0018863776895104"
      ]
     },
     "execution_count": 115,
     "metadata": {},
     "output_type": "execute_result"
    }
   ],
   "source": [
    "# 2b -- Trapezoidal sum\n",
    "\n",
    "h=0.1\n",
    "X = np.arange(0,1,h)\n",
    "\n",
    "summation = 0\n",
    "for x in X:\n",
    "    summation += 1/2 * (fX(x) + fX(x+h))\n",
    "    \n",
    "trapezoid_est = summation * h\n",
    "trapezoid_est"
   ]
  },
  {
   "cell_type": "markdown",
   "metadata": {},
   "source": [
    "## Problem 3"
   ]
  },
  {
   "cell_type": "code",
   "execution_count": 163,
   "metadata": {},
   "outputs": [],
   "source": [
    "def y_a(x):\n",
    "    return 1 - sqrt(2/x+2)\n",
    "\n",
    "def dydx(x,y):\n",
    "    return 1/((x**2)*(1-y))"
   ]
  },
  {
   "cell_type": "code",
   "execution_count": null,
   "metadata": {},
   "outputs": [],
   "source": [
    "# Plot analytical solution\n",
    "\n",
    "fig, ax = plt.subplots(figsize=(10,6), facecolor='white')\n",
    "\n",
    "# # Params\n",
    "xlims = [0,1]\n",
    "ylims = [-20,0]\n",
    "x_major_tick = 0.2\n",
    "x_minor_tick = 0.025\n",
    "y_major_tick = 10\n",
    "\n",
    "# # Plotting\n",
    "xstep = 0.001\n",
    "x = np.arange(1,0,-xstep)\n",
    "ax.plot(x, [y_a(xx) for xx in x])\n",
    "\n",
    "# Formatting\n",
    "plt.title('Analytical solution to ' + r'$\\frac{dy}{dx} \\, = \\, \\frac{1}{x^2(1-y)}$', fontsize=20, pad=40)\n",
    "ax.set(xlim=xlims, ylim=ylims)\n",
    "ax.set_xlabel(r'$x$', fontsize=16, labelpad=10)\n",
    "ax.set_ylabel(r'$y(x)$', fontsize=16, labelpad=10)\n",
    "\n",
    "ax.xaxis.set_major_locator(MultipleLocator(x_major_tick))\n",
    "ax.xaxis.set_major_formatter(FormatStrFormatter('%1.1f'))\n",
    "ax.xaxis.set_minor_locator(MultipleLocator(x_minor_tick))\n",
    "\n",
    "ax.grid('on')\n",
    "ax.grid('on',which='minor',color=[0.9,0.9,0.9])\n"
   ]
  },
  {
   "cell_type": "code",
   "execution_count": 164,
   "metadata": {},
   "outputs": [
    {
     "name": "stdout",
     "output_type": "stream",
     "text": [
      "-8.124934344340135\n"
     ]
    }
   ],
   "source": [
    "# Euler's Method\n",
    "\n",
    "def f(x,y):\n",
    "    return dydx(x,y)\n",
    "\n",
    "def EM_step(x,y,step):\n",
    "    return y + step*f(x,y)\n",
    "\n",
    "step = -0.05\n",
    "x = 1\n",
    "y = -1\n",
    "for x in np.arange(1,0,step):\n",
    "    y = EM_step(x,y,step)\n",
    "    \n",
    "print(y)"
   ]
  },
  {
   "cell_type": "code",
   "execution_count": 182,
   "metadata": {},
   "outputs": [
    {
     "data": {
      "image/png": "[encoded data removed]",
      "text/plain": [
       "<Figure size 720x432 with 1 Axes>"
      ]
     },
     "metadata": {},
     "output_type": "display_data"
    }
   ],
   "source": []
  },
  {
   "cell_type": "code",
   "execution_count": 184,
   "metadata": {},
   "outputs": [
    {
     "name": "stdout",
     "output_type": "stream",
     "text": [
      "-7.068182004270559e+26\n"
     ]
    }
   ],
   "source": [
    "# Runge-Kutta method\n",
    "step = -0.05\n",
    "x = 1\n",
    "y = -1\n",
    "for x in np.arange(1,0,step):\n",
    "    y = RK4(x,y,step)\n",
    "    \n",
    "print(y)"
   ]
  },
  {
   "cell_type": "code",
   "execution_count": 259,
   "metadata": {},
   "outputs": [
    {
     "data": {
      "text/plain": [
       "-7.454836751011965e+27"
      ]
     },
     "execution_count": 259,
     "metadata": {},
     "output_type": "execute_result"
    }
   ],
   "source": [
    "# Richardson Extrapolation\n",
    "\n",
    "def RE(x,y,H,n=2):\n",
    "    h = H/n # inner step-size\n",
    "    \n",
    "    # First mini-step, Modified midpoint method\n",
    "    z0 = y\n",
    "    z1 = z0 + h*f(x,z0)\n",
    "    # initialize iterating variables\n",
    "    zm = z1\n",
    "    zlast = z0 \n",
    "    \n",
    "    for m in range(1,n):\n",
    "        znext = zlast + 2*h*f(x+m*h,zm)\n",
    "        # Update for incrementing m\n",
    "        zlast = zm\n",
    "        zm = znext\n",
    "        \n",
    "    # m=n, and zm and zlast have been updated by last lines of loop\n",
    "    yn = 1/2 * ( zm + zlast + h*f(x+H,zm) )\n",
    "    return yn\n",
    "    \n",
    "    \n",
    "\n",
    "\n",
    "x0 = 1\n",
    "y0 = -1\n",
    "\n",
    "x = x0\n",
    "yn = y0\n",
    "n = 2\n",
    "H = -0.05\n",
    "\n",
    "xgoal = 0\n",
    "\n",
    "ERROR_BOUND = 1\n",
    "ITERS_MAX = 1000\n",
    "\n",
    "iters = 0\n",
    "while np.abs(x-xgoal) > np.abs(H/2): # while we are greater than a macro-step from the\n",
    "                                     # goal (halved to avoid floating point error)\n",
    "    x = x+H\n",
    "    y = yn\n",
    "    n = 2\n",
    "    \n",
    "    # Run for n=2 to initialize error table\n",
    "    yn = RE(x=x,y=y,H=H,n=2)\n",
    "    # Start extrapolation table\n",
    "    ex_table = []\n",
    "    ex_table.append(np.empty([n+2],float))\n",
    "    ex_table[0][0] = yn\n",
    "\n",
    "    \n",
    "    try:\n",
    "        ERROR_BOUND = np.abs(y_a(x))/20 # est should be w/i 5% of solution to move on\n",
    "        error = np.abs(y_a(x)-yn)\n",
    "    except ValueError:\n",
    "        # Will occur when x=0, since y_a(0) divides by zero -- instead just use previous error\n",
    "        ERROR_BOUND = error\n",
    "        # Initialize error as infinitely high, since we need to run another mod. mp. in order\n",
    "        # to estimate error from extrapolation table\n",
    "        error = float('inf')\n",
    "    while error > ERROR_BOUND and iters < ITERS_MAX: # iteration max to avoid hanging\n",
    "        n += 2\n",
    "        yn = RE(x=x,y=y,H=H,n=n)\n",
    "        if x > 0.001: # If x is positive nonzero, y(x) should be finite, so we can \n",
    "                      # check our estimate against the analytical solution directly.\n",
    "            error = np.abs(y_a(x)-yn)\n",
    "        else:\n",
    "            # Extrapolation table to determine error\n",
    "            ex_table.append(np.empty([n,1]))\n",
    "            for j in range(1,n-1):\n",
    "                # calculate dif between values at j-1 and j in last two rows\n",
    "                dif = (2*ex_table[-1][j-1]-ex_table[-2][j-1]) / (n/(n-2)**2 - 1) \n",
    "                # assign value at j in last row\n",
    "                ex_table[-1][j] = ex_table[-1][j-1] + dif \n",
    "            # Difference between consecutive columns in final row is error estimate\n",
    "            error = np.abs(dif[0]) \n",
    "    \n",
    "        iters += 1\n",
    "\n",
    "yn\n"
   ]
  },
  {
   "cell_type": "code",
   "execution_count": 260,
   "metadata": {},
   "outputs": [
    {
     "data": {
      "text/plain": [
       "-3.191891195797325e-16"
      ]
     },
     "execution_count": 260,
     "metadata": {},
     "output_type": "execute_result"
    }
   ],
   "source": [
    "x"
   ]
  },
  {
   "cell_type": "code",
   "execution_count": null,
   "metadata": {},
   "outputs": [],
   "source": []
  }
 ],
 "metadata": {
  "kernelspec": {
   "display_name": "Python 3",
   "language": "python",
   "name": "python3"
  },
  "language_info": {
   "codemirror_mode": {
    "name": "ipython",
    "version": 3
   },
   "file_extension": ".py",
   "mimetype": "text/x-python",
   "name": "python",
   "nbconvert_exporter": "python",
   "pygments_lexer": "ipython3",
   "version": "3.7.4"
  }
 },
 "nbformat": 4,
 "nbformat_minor": 2
}
