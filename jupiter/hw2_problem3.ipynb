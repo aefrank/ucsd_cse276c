{
 "cells": [
  {
   "cell_type": "markdown",
   "metadata": {},
   "source": [
    "# Problem 3\n",
    "\n",
    "Implement Newton's Method to find the two solutions of x = tan(x) closest to 5."
   ]
  },
  {
   "cell_type": "code",
   "execution_count": 1,
   "metadata": {},
   "outputs": [],
   "source": [
    "#Imports\n",
    "import numpy as np"
   ]
  },
  {
   "cell_type": "markdown",
   "metadata": {},
   "source": [
    "## Function definitions"
   ]
  },
  {
   "cell_type": "code",
   "execution_count": 2,
   "metadata": {},
   "outputs": [],
   "source": [
    "def f(x):\n",
    "    '''\n",
    "    Rewrite tan(x) = x as f(x) = 0 = tan(x) - x to find solutions with Newton's Method.\n",
    "    Zeros of f(x) are solutions to tan(x) = x.\n",
    "    '''\n",
    "    \n",
    "    return np.tan(x) - x\n",
    "\n",
    "def dfdx(x):\n",
    "    '''\n",
    "    First derivative of f(x) w.r.t. x.\n",
    "    f'(x) = sec^2(x) - 1\n",
    "    ''' \n",
    "    sec = 1/np.cos(x)\n",
    "    return np.power(sec,2) - 1 \n",
    "\n",
    "def NM_step(x0,fx,df):\n",
    "    '''\n",
    "    Given an x0 value, calculate the next step using Newton's method.\n",
    "    '''\n",
    "    x1 = x0 - fx(x0)/df(x0)\n",
    "    return x1\n",
    "\n",
    "def run_NM(x0,fx,df,n=20,tolerance=5e-7):\n",
    "    '''\n",
    "    Run Newton's method to find the roots of fx, with derivative dx, \n",
    "    using initial estimate x0, for n iterations or until consecutive\n",
    "    steps converge to within tolerance.\n",
    "    '''\n",
    "    xlast = x0\n",
    "    for i in range(n):\n",
    "        # Run one step on Newton's Method\n",
    "        x = NM_step(x0=xlast,fx=fx,df=df)\n",
    "        # Check for convergence, otherwise keep iterating\n",
    "        if (np.abs(x-xlast)<tolerance):\n",
    "            return x\n",
    "        # Update xlast\n",
    "        xlast = x\n",
    "        \n",
    "    return x"
   ]
  },
  {
   "cell_type": "markdown",
   "metadata": {},
   "source": [
    "## \"main()\" program"
   ]
  },
  {
   "cell_type": "code",
   "execution_count": 3,
   "metadata": {},
   "outputs": [
    {
     "name": "stdout",
     "output_type": "stream",
     "text": [
      "[4.493409 7.725252]\n"
     ]
    }
   ],
   "source": [
    "######################################################################################\n",
    "# Initialize parameters and initial conditions\n",
    "#####################################################################################\n",
    "\n",
    "# Define window of interest (length of window will actually be 2*WINDOW)\n",
    "WINDOW = np.pi\n",
    "\n",
    "# Define a tolerance within which we consider two root estimates to be the same\n",
    "TOLERANCE = 5e-7 # inspired by problem 2\n",
    "\n",
    "# If NM hasn't converged in MAX_ITERS iterations, consider it divergent\n",
    "MAX_ITERS = 20 \n",
    "\n",
    "# Initialize root estimate array\n",
    "root_estimates = np.array([])\n",
    "\n",
    "# Array of first estimates to initialize Newton's Method\n",
    "x0 = np.arange(5-WINDOW,5+WINDOW,0.1)\n",
    "\n",
    "\n",
    "######################################################################################\n",
    "# Run Newton's Method\n",
    "#####################################################################################\n",
    "# Iterate through initial estimates\n",
    "for x in x0:\n",
    "    x_est = run_NM(x0=x,fx=f,df=dfdx,n=MAX_ITERS,tolerance=TOLERANCE)\n",
    "    # If the estimate is ever over WINDOW of 5, we can assume that NM is either converging\n",
    "    # on the incorrect root or diverging, and abandon the run\n",
    "    if np.abs(x_est-5) < WINDOW:\n",
    "        # Check if this root is already recorded\n",
    "        if root_estimates.size == 0: # If we have no estimates yet, append this root\n",
    "            root_estimates = np.append(root_estimates,x_est) \n",
    "        # Otherwise, if it's more than TOLERANCE different than recorded roots, append this root\n",
    "        elif np.all(np.abs(root_estimates-x_est)>TOLERANCE): \n",
    "            root_estimates = np.append(root_estimates,x_est) \n",
    "        \n",
    "# Print roots (rounded to 6 decimal places for presentation)\n",
    "print(np.round(root_estimates,6))"
   ]
  }
 ],
 "metadata": {
  "kernelspec": {
   "display_name": "Python 3",
   "language": "python",
   "name": "python3"
  },
  "language_info": {
   "codemirror_mode": {
    "name": "ipython",
    "version": 3
   },
   "file_extension": ".py",
   "mimetype": "text/x-python",
   "name": "python",
   "nbconvert_exporter": "python",
   "pygments_lexer": "ipython3",
   "version": "3.7.4"
  }
 },
 "nbformat": 4,
 "nbformat_minor": 2
}
